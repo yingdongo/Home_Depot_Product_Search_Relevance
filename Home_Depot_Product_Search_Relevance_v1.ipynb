{
 "cells": [
  {
   "cell_type": "code",
   "execution_count": 2,
   "metadata": {
    "collapsed": false
   },
   "outputs": [],
   "source": [
    "import pandas as pd\n",
    "import numpy as np\n",
    "import matplotlib.pylab as plt\n",
    "import seaborn as sns\n",
    "\n",
    "from nltk.stem.snowball import SnowballStemmer\n",
    "from sklearn.base import BaseEstimator, TransformerMixin\n",
    "from sklearn.pipeline import FeatureUnion\n",
    "from sklearn.pipeline import Pipeline\n",
    "from sklearn.ensemble import RandomForestRegressor\n",
    "from sklearn.ensemble import BaggingRegressor\n",
    "\n",
    "%matplotlib inline"
   ]
  },
  {
   "cell_type": "code",
   "execution_count": 3,
   "metadata": {
    "collapsed": true
   },
   "outputs": [],
   "source": [
    "# import train data"
   ]
  },
  {
   "cell_type": "code",
   "execution_count": 4,
   "metadata": {
    "collapsed": false,
    "scrolled": true
   },
   "outputs": [],
   "source": [
    "df_train = pd.read_csv('data/train.csv', encoding='ISO-8859-1')"
   ]
  },
  {
   "cell_type": "code",
   "execution_count": 6,
   "metadata": {
    "collapsed": true
   },
   "outputs": [
    {
     "data": {
      "text/html": [
       "<div>\n",
       "<table border=\"1\" class=\"dataframe\">\n",
       "  <thead>\n",
       "    <tr style=\"text-align: right;\">\n",
       "      <th></th>\n",
       "      <th>id</th>\n",
       "      <th>product_uid</th>\n",
       "      <th>product_title</th>\n",
       "      <th>search_term</th>\n",
       "      <th>relevance</th>\n",
       "    </tr>\n",
       "  </thead>\n",
       "  <tbody>\n",
       "    <tr>\n",
       "      <th>0</th>\n",
       "      <td>2</td>\n",
       "      <td>100001</td>\n",
       "      <td>Simpson Strong-Tie 12-Gauge Angle</td>\n",
       "      <td>angle bracket</td>\n",
       "      <td>3.00</td>\n",
       "    </tr>\n",
       "    <tr>\n",
       "      <th>1</th>\n",
       "      <td>3</td>\n",
       "      <td>100001</td>\n",
       "      <td>Simpson Strong-Tie 12-Gauge Angle</td>\n",
       "      <td>l bracket</td>\n",
       "      <td>2.50</td>\n",
       "    </tr>\n",
       "    <tr>\n",
       "      <th>2</th>\n",
       "      <td>9</td>\n",
       "      <td>100002</td>\n",
       "      <td>BEHR Premium Textured DeckOver 1-gal. #SC-141 ...</td>\n",
       "      <td>deck over</td>\n",
       "      <td>3.00</td>\n",
       "    </tr>\n",
       "    <tr>\n",
       "      <th>3</th>\n",
       "      <td>16</td>\n",
       "      <td>100005</td>\n",
       "      <td>Delta Vero 1-Handle Shower Only Faucet Trim Ki...</td>\n",
       "      <td>rain shower head</td>\n",
       "      <td>2.33</td>\n",
       "    </tr>\n",
       "    <tr>\n",
       "      <th>4</th>\n",
       "      <td>17</td>\n",
       "      <td>100005</td>\n",
       "      <td>Delta Vero 1-Handle Shower Only Faucet Trim Ki...</td>\n",
       "      <td>shower only faucet</td>\n",
       "      <td>2.67</td>\n",
       "    </tr>\n",
       "    <tr>\n",
       "      <th>5</th>\n",
       "      <td>18</td>\n",
       "      <td>100006</td>\n",
       "      <td>Whirlpool 1.9 cu. ft. Over the Range Convectio...</td>\n",
       "      <td>convection otr</td>\n",
       "      <td>3.00</td>\n",
       "    </tr>\n",
       "    <tr>\n",
       "      <th>6</th>\n",
       "      <td>20</td>\n",
       "      <td>100006</td>\n",
       "      <td>Whirlpool 1.9 cu. ft. Over the Range Convectio...</td>\n",
       "      <td>microwave over stove</td>\n",
       "      <td>2.67</td>\n",
       "    </tr>\n",
       "    <tr>\n",
       "      <th>7</th>\n",
       "      <td>21</td>\n",
       "      <td>100006</td>\n",
       "      <td>Whirlpool 1.9 cu. ft. Over the Range Convectio...</td>\n",
       "      <td>microwaves</td>\n",
       "      <td>3.00</td>\n",
       "    </tr>\n",
       "    <tr>\n",
       "      <th>8</th>\n",
       "      <td>23</td>\n",
       "      <td>100007</td>\n",
       "      <td>Lithonia Lighting Quantum 2-Light Black LED Em...</td>\n",
       "      <td>emergency light</td>\n",
       "      <td>2.67</td>\n",
       "    </tr>\n",
       "    <tr>\n",
       "      <th>9</th>\n",
       "      <td>27</td>\n",
       "      <td>100009</td>\n",
       "      <td>House of Fara 3/4 in. x 3 in. x 8 ft. MDF Flut...</td>\n",
       "      <td>mdf 3/4</td>\n",
       "      <td>3.00</td>\n",
       "    </tr>\n",
       "    <tr>\n",
       "      <th>10</th>\n",
       "      <td>34</td>\n",
       "      <td>100010</td>\n",
       "      <td>Valley View Industries Metal Stakes (4-Pack)</td>\n",
       "      <td>steele stake</td>\n",
       "      <td>2.67</td>\n",
       "    </tr>\n",
       "    <tr>\n",
       "      <th>11</th>\n",
       "      <td>35</td>\n",
       "      <td>100011</td>\n",
       "      <td>Toro Personal Pace Recycler 22 in. Variable Sp...</td>\n",
       "      <td>briggs and stratton lawn mower</td>\n",
       "      <td>3.00</td>\n",
       "    </tr>\n",
       "    <tr>\n",
       "      <th>12</th>\n",
       "      <td>37</td>\n",
       "      <td>100011</td>\n",
       "      <td>Toro Personal Pace Recycler 22 in. Variable Sp...</td>\n",
       "      <td>gas mowe</td>\n",
       "      <td>3.00</td>\n",
       "    </tr>\n",
       "    <tr>\n",
       "      <th>13</th>\n",
       "      <td>38</td>\n",
       "      <td>100011</td>\n",
       "      <td>Toro Personal Pace Recycler 22 in. Variable Sp...</td>\n",
       "      <td>honda mower</td>\n",
       "      <td>2.00</td>\n",
       "    </tr>\n",
       "    <tr>\n",
       "      <th>14</th>\n",
       "      <td>48</td>\n",
       "      <td>100012</td>\n",
       "      <td>Hampton Bay Caramel Simple Weave Bamboo Rollup...</td>\n",
       "      <td>hampton bay chestnut pull up shade</td>\n",
       "      <td>2.67</td>\n",
       "    </tr>\n",
       "    <tr>\n",
       "      <th>15</th>\n",
       "      <td>51</td>\n",
       "      <td>100013</td>\n",
       "      <td>InSinkErator SinkTop Switch Single Outlet for ...</td>\n",
       "      <td>disposer</td>\n",
       "      <td>2.67</td>\n",
       "    </tr>\n",
       "    <tr>\n",
       "      <th>16</th>\n",
       "      <td>65</td>\n",
       "      <td>100016</td>\n",
       "      <td>Sunjoy Calais 8 ft. x 5 ft. x 8 ft. Steel Tile...</td>\n",
       "      <td>grill gazebo</td>\n",
       "      <td>3.00</td>\n",
       "    </tr>\n",
       "    <tr>\n",
       "      <th>17</th>\n",
       "      <td>69</td>\n",
       "      <td>100017</td>\n",
       "      <td>MD Building Products 36 in. x 36 in. Cloverlea...</td>\n",
       "      <td>door guards</td>\n",
       "      <td>1.00</td>\n",
       "    </tr>\n",
       "    <tr>\n",
       "      <th>18</th>\n",
       "      <td>75</td>\n",
       "      <td>100017</td>\n",
       "      <td>MD Building Products 36 in. x 36 in. Cloverlea...</td>\n",
       "      <td>metal plate cover gcfi</td>\n",
       "      <td>1.67</td>\n",
       "    </tr>\n",
       "    <tr>\n",
       "      <th>19</th>\n",
       "      <td>81</td>\n",
       "      <td>100017</td>\n",
       "      <td>MD Building Products 36 in. x 36 in. Cloverlea...</td>\n",
       "      <td>radiator grate</td>\n",
       "      <td>2.33</td>\n",
       "    </tr>\n",
       "    <tr>\n",
       "      <th>20</th>\n",
       "      <td>85</td>\n",
       "      <td>100017</td>\n",
       "      <td>MD Building Products 36 in. x 36 in. Cloverlea...</td>\n",
       "      <td>windows screens</td>\n",
       "      <td>2.33</td>\n",
       "    </tr>\n",
       "    <tr>\n",
       "      <th>21</th>\n",
       "      <td>88</td>\n",
       "      <td>100019</td>\n",
       "      <td>House of Fara 8 Linear ft. MDF Overlapping Wai...</td>\n",
       "      <td>1x1 rail decorative wood</td>\n",
       "      <td>1.33</td>\n",
       "    </tr>\n",
       "    <tr>\n",
       "      <th>22</th>\n",
       "      <td>90</td>\n",
       "      <td>100019</td>\n",
       "      <td>House of Fara 8 Linear ft. MDF Overlapping Wai...</td>\n",
       "      <td>4*8 beadboard paneling</td>\n",
       "      <td>2.67</td>\n",
       "    </tr>\n",
       "    <tr>\n",
       "      <th>23</th>\n",
       "      <td>92</td>\n",
       "      <td>100019</td>\n",
       "      <td>House of Fara 8 Linear ft. MDF Overlapping Wai...</td>\n",
       "      <td>4x8wood paneling</td>\n",
       "      <td>2.33</td>\n",
       "    </tr>\n",
       "    <tr>\n",
       "      <th>24</th>\n",
       "      <td>101</td>\n",
       "      <td>100019</td>\n",
       "      <td>House of Fara 8 Linear ft. MDF Overlapping Wai...</td>\n",
       "      <td>MDF 4x8</td>\n",
       "      <td>1.33</td>\n",
       "    </tr>\n",
       "    <tr>\n",
       "      <th>25</th>\n",
       "      <td>105</td>\n",
       "      <td>100019</td>\n",
       "      <td>House of Fara 8 Linear ft. MDF Overlapping Wai...</td>\n",
       "      <td>wainscot chair rail</td>\n",
       "      <td>2.33</td>\n",
       "    </tr>\n",
       "    <tr>\n",
       "      <th>26</th>\n",
       "      <td>106</td>\n",
       "      <td>100019</td>\n",
       "      <td>House of Fara 8 Linear ft. MDF Overlapping Wai...</td>\n",
       "      <td>wainscot plank paneling</td>\n",
       "      <td>2.33</td>\n",
       "    </tr>\n",
       "    <tr>\n",
       "      <th>27</th>\n",
       "      <td>113</td>\n",
       "      <td>100021</td>\n",
       "      <td>1804 Dual Spray Half Pattern 4 in Pop-Up Spray...</td>\n",
       "      <td>lawn sprkinler</td>\n",
       "      <td>2.00</td>\n",
       "    </tr>\n",
       "    <tr>\n",
       "      <th>28</th>\n",
       "      <td>114</td>\n",
       "      <td>100021</td>\n",
       "      <td>1804 Dual Spray Half Pattern 4 in Pop-Up Spray...</td>\n",
       "      <td>rainbird sprinkler</td>\n",
       "      <td>2.33</td>\n",
       "    </tr>\n",
       "    <tr>\n",
       "      <th>29</th>\n",
       "      <td>117</td>\n",
       "      <td>100022</td>\n",
       "      <td>Samsung 4.2 cu. ft. Front Load Washer with Ste...</td>\n",
       "      <td>PLATFORM FOR WASHERS</td>\n",
       "      <td>2.67</td>\n",
       "    </tr>\n",
       "    <tr>\n",
       "      <th>...</th>\n",
       "      <td>...</td>\n",
       "      <td>...</td>\n",
       "      <td>...</td>\n",
       "      <td>...</td>\n",
       "      <td>...</td>\n",
       "    </tr>\n",
       "    <tr>\n",
       "      <th>74037</th>\n",
       "      <td>221398</td>\n",
       "      <td>206588</td>\n",
       "      <td>Cake Boss Decorating Tools 3-Piece Plastic Ici...</td>\n",
       "      <td>plastic 3 piece nativity set</td>\n",
       "      <td>1.67</td>\n",
       "    </tr>\n",
       "    <tr>\n",
       "      <th>74038</th>\n",
       "      <td>221400</td>\n",
       "      <td>206589</td>\n",
       "      <td>Husky Universal Pass-Through Mechanics Tool Se...</td>\n",
       "      <td>pass through curtain rings</td>\n",
       "      <td>1.33</td>\n",
       "    </tr>\n",
       "    <tr>\n",
       "      <th>74039</th>\n",
       "      <td>221401</td>\n",
       "      <td>206590</td>\n",
       "      <td>Crosley LaFayette Low Profile TV Stand in Black</td>\n",
       "      <td>crosley lafayette kf30024bwh</td>\n",
       "      <td>2.33</td>\n",
       "    </tr>\n",
       "    <tr>\n",
       "      <th>74040</th>\n",
       "      <td>221404</td>\n",
       "      <td>206593</td>\n",
       "      <td>Rust-Oleum Automotive 8 oz. Special White Auto...</td>\n",
       "      <td>dremel auto rust</td>\n",
       "      <td>2.33</td>\n",
       "    </tr>\n",
       "    <tr>\n",
       "      <th>74041</th>\n",
       "      <td>221405</td>\n",
       "      <td>206594</td>\n",
       "      <td>Foremost Tides 33 in. to 35 in. x 65 in. Frame...</td>\n",
       "      <td>privacy glass pivot doors</td>\n",
       "      <td>2.67</td>\n",
       "    </tr>\n",
       "    <tr>\n",
       "      <th>74042</th>\n",
       "      <td>221407</td>\n",
       "      <td>206596</td>\n",
       "      <td>Bali Cut-to-Size Crown 3.5 in. PVC Louver Set ...</td>\n",
       "      <td>alabaster blinds 39x72 alvin</td>\n",
       "      <td>1.67</td>\n",
       "    </tr>\n",
       "    <tr>\n",
       "      <th>74043</th>\n",
       "      <td>221408</td>\n",
       "      <td>206597</td>\n",
       "      <td>Home Fashion Technologies 14 in. x 59 in. Soli...</td>\n",
       "      <td>exterior shutter with movable louvers</td>\n",
       "      <td>3.00</td>\n",
       "    </tr>\n",
       "    <tr>\n",
       "      <th>74044</th>\n",
       "      <td>221409</td>\n",
       "      <td>206598</td>\n",
       "      <td>Newport Coastal Photo Eye Replacement</td>\n",
       "      <td>lightsensor</td>\n",
       "      <td>2.67</td>\n",
       "    </tr>\n",
       "    <tr>\n",
       "      <th>74045</th>\n",
       "      <td>221411</td>\n",
       "      <td>206599</td>\n",
       "      <td>HYDRONIX 12 in. x 2-1/2 in. Inline Coconut Car...</td>\n",
       "      <td>bypass 12 water filter</td>\n",
       "      <td>1.33</td>\n",
       "    </tr>\n",
       "    <tr>\n",
       "      <th>74046</th>\n",
       "      <td>221412</td>\n",
       "      <td>206600</td>\n",
       "      <td>Worx 12 in. Ni-cd 24-Volt 3-5 Hour Charger Gra...</td>\n",
       "      <td>ni-2.4v</td>\n",
       "      <td>2.00</td>\n",
       "    </tr>\n",
       "    <tr>\n",
       "      <th>74047</th>\n",
       "      <td>221413</td>\n",
       "      <td>206601</td>\n",
       "      <td>3M Tekk Protection White Vented Hard Hat with ...</td>\n",
       "      <td>hard hat with mining</td>\n",
       "      <td>1.67</td>\n",
       "    </tr>\n",
       "    <tr>\n",
       "      <th>74048</th>\n",
       "      <td>221415</td>\n",
       "      <td>206602</td>\n",
       "      <td>Hy-Lite Glass Block Fixed Vinyl Windows Driftw...</td>\n",
       "      <td>replace a broken glass in a vinyl window</td>\n",
       "      <td>2.00</td>\n",
       "    </tr>\n",
       "    <tr>\n",
       "      <th>74049</th>\n",
       "      <td>221416</td>\n",
       "      <td>206603</td>\n",
       "      <td>Westinghouse 3 ft. Oil Rubbed Bronze Beaded Ch...</td>\n",
       "      <td>ceiling fan with chain cord</td>\n",
       "      <td>1.00</td>\n",
       "    </tr>\n",
       "    <tr>\n",
       "      <th>74050</th>\n",
       "      <td>221419</td>\n",
       "      <td>206606</td>\n",
       "      <td>BEHR Premium Plus #ICC-101 Florentine Clay Zer...</td>\n",
       "      <td>florentine clay</td>\n",
       "      <td>2.33</td>\n",
       "    </tr>\n",
       "    <tr>\n",
       "      <th>74051</th>\n",
       "      <td>221420</td>\n",
       "      <td>206607</td>\n",
       "      <td>Home Legend Palace Oak Light 3/4 in. Thick x 3...</td>\n",
       "      <td>trim a home lights</td>\n",
       "      <td>2.00</td>\n",
       "    </tr>\n",
       "    <tr>\n",
       "      <th>74052</th>\n",
       "      <td>221422</td>\n",
       "      <td>206609</td>\n",
       "      <td>Whitehaus Collection Isabella Wall-Mounted Bat...</td>\n",
       "      <td>whitehaus bathroom sinl</td>\n",
       "      <td>2.33</td>\n",
       "    </tr>\n",
       "    <tr>\n",
       "      <th>74053</th>\n",
       "      <td>221423</td>\n",
       "      <td>206610</td>\n",
       "      <td>Champion Power Equipment 6.5 HP Gas-Powered 3 ...</td>\n",
       "      <td>6.5 hp gas generator</td>\n",
       "      <td>2.33</td>\n",
       "    </tr>\n",
       "    <tr>\n",
       "      <th>74054</th>\n",
       "      <td>221426</td>\n",
       "      <td>206613</td>\n",
       "      <td>Everbilt 4 in. White Wall Guard</td>\n",
       "      <td>splash guard for  wall</td>\n",
       "      <td>2.00</td>\n",
       "    </tr>\n",
       "    <tr>\n",
       "      <th>74055</th>\n",
       "      <td>221427</td>\n",
       "      <td>206614</td>\n",
       "      <td>Daltile Villa Valleta Calais Springs 18 in. x ...</td>\n",
       "      <td>spicewood springs floor tile</td>\n",
       "      <td>1.67</td>\n",
       "    </tr>\n",
       "    <tr>\n",
       "      <th>74056</th>\n",
       "      <td>221432</td>\n",
       "      <td>206619</td>\n",
       "      <td>Home Styles Stone Harbor 51 in. Round 7-Piece ...</td>\n",
       "      <td>laguna porcelin tile</td>\n",
       "      <td>2.00</td>\n",
       "    </tr>\n",
       "    <tr>\n",
       "      <th>74057</th>\n",
       "      <td>221434</td>\n",
       "      <td>206621</td>\n",
       "      <td>Crown Bolt M6-32 x 90 mm. Internal Hex Socket ...</td>\n",
       "      <td>m6 screw 90mm</td>\n",
       "      <td>2.67</td>\n",
       "    </tr>\n",
       "    <tr>\n",
       "      <th>74058</th>\n",
       "      <td>221443</td>\n",
       "      <td>206627</td>\n",
       "      <td>25 in. Stainless Tip-Out Sink Front Tray</td>\n",
       "      <td>sink tip-out tray</td>\n",
       "      <td>3.00</td>\n",
       "    </tr>\n",
       "    <tr>\n",
       "      <th>74059</th>\n",
       "      <td>221449</td>\n",
       "      <td>206631</td>\n",
       "      <td>Masonite New Haven Three Quarter Oval Lite Pri...</td>\n",
       "      <td>fiberglass front doors by masonite</td>\n",
       "      <td>3.00</td>\n",
       "    </tr>\n",
       "    <tr>\n",
       "      <th>74060</th>\n",
       "      <td>221450</td>\n",
       "      <td>206632</td>\n",
       "      <td>Lilly Miller UltraGreen 1 Gal. Vitamin B-1 Pla...</td>\n",
       "      <td>starter fertillzer</td>\n",
       "      <td>2.00</td>\n",
       "    </tr>\n",
       "    <tr>\n",
       "      <th>74061</th>\n",
       "      <td>221455</td>\n",
       "      <td>206637</td>\n",
       "      <td>Schluter Rondec Stainless Steel 3/8 in. x 1 in...</td>\n",
       "      <td>rondec stainless steel 3/8 edge protection</td>\n",
       "      <td>3.00</td>\n",
       "    </tr>\n",
       "    <tr>\n",
       "      <th>74062</th>\n",
       "      <td>221457</td>\n",
       "      <td>206638</td>\n",
       "      <td>Atlantic Windowpane 576 CD or 192 DVD Blu-Ray ...</td>\n",
       "      <td>tv riser glass</td>\n",
       "      <td>1.00</td>\n",
       "    </tr>\n",
       "    <tr>\n",
       "      <th>74063</th>\n",
       "      <td>221458</td>\n",
       "      <td>206639</td>\n",
       "      <td>Philips 40-Watt Halogen R20 Flood Light Bulb (...</td>\n",
       "      <td>r20 halogen light</td>\n",
       "      <td>3.00</td>\n",
       "    </tr>\n",
       "    <tr>\n",
       "      <th>74064</th>\n",
       "      <td>221463</td>\n",
       "      <td>206641</td>\n",
       "      <td>Schlage Camelot In-Active Aged Bronze Handlese...</td>\n",
       "      <td>schlage lock siena half dummy knob with</td>\n",
       "      <td>2.33</td>\n",
       "    </tr>\n",
       "    <tr>\n",
       "      <th>74065</th>\n",
       "      <td>221471</td>\n",
       "      <td>206648</td>\n",
       "      <td>Plastec 11 in. x 24 in. Rose Garden Wall Decor...</td>\n",
       "      <td>zen garden  decor</td>\n",
       "      <td>3.00</td>\n",
       "    </tr>\n",
       "    <tr>\n",
       "      <th>74066</th>\n",
       "      <td>221473</td>\n",
       "      <td>206650</td>\n",
       "      <td>LICHTENBERG Pool Blue No. 918 Millennial Ryan ...</td>\n",
       "      <td>fine sheer curtain 63 inches</td>\n",
       "      <td>2.33</td>\n",
       "    </tr>\n",
       "  </tbody>\n",
       "</table>\n",
       "<p>74067 rows × 5 columns</p>\n",
       "</div>"
      ],
      "text/plain": [
       "           id  product_uid                                      product_title  \\\n",
       "0           2       100001                  Simpson Strong-Tie 12-Gauge Angle   \n",
       "1           3       100001                  Simpson Strong-Tie 12-Gauge Angle   \n",
       "2           9       100002  BEHR Premium Textured DeckOver 1-gal. #SC-141 ...   \n",
       "3          16       100005  Delta Vero 1-Handle Shower Only Faucet Trim Ki...   \n",
       "4          17       100005  Delta Vero 1-Handle Shower Only Faucet Trim Ki...   \n",
       "5          18       100006  Whirlpool 1.9 cu. ft. Over the Range Convectio...   \n",
       "6          20       100006  Whirlpool 1.9 cu. ft. Over the Range Convectio...   \n",
       "7          21       100006  Whirlpool 1.9 cu. ft. Over the Range Convectio...   \n",
       "8          23       100007  Lithonia Lighting Quantum 2-Light Black LED Em...   \n",
       "9          27       100009  House of Fara 3/4 in. x 3 in. x 8 ft. MDF Flut...   \n",
       "10         34       100010       Valley View Industries Metal Stakes (4-Pack)   \n",
       "11         35       100011  Toro Personal Pace Recycler 22 in. Variable Sp...   \n",
       "12         37       100011  Toro Personal Pace Recycler 22 in. Variable Sp...   \n",
       "13         38       100011  Toro Personal Pace Recycler 22 in. Variable Sp...   \n",
       "14         48       100012  Hampton Bay Caramel Simple Weave Bamboo Rollup...   \n",
       "15         51       100013  InSinkErator SinkTop Switch Single Outlet for ...   \n",
       "16         65       100016  Sunjoy Calais 8 ft. x 5 ft. x 8 ft. Steel Tile...   \n",
       "17         69       100017  MD Building Products 36 in. x 36 in. Cloverlea...   \n",
       "18         75       100017  MD Building Products 36 in. x 36 in. Cloverlea...   \n",
       "19         81       100017  MD Building Products 36 in. x 36 in. Cloverlea...   \n",
       "20         85       100017  MD Building Products 36 in. x 36 in. Cloverlea...   \n",
       "21         88       100019  House of Fara 8 Linear ft. MDF Overlapping Wai...   \n",
       "22         90       100019  House of Fara 8 Linear ft. MDF Overlapping Wai...   \n",
       "23         92       100019  House of Fara 8 Linear ft. MDF Overlapping Wai...   \n",
       "24        101       100019  House of Fara 8 Linear ft. MDF Overlapping Wai...   \n",
       "25        105       100019  House of Fara 8 Linear ft. MDF Overlapping Wai...   \n",
       "26        106       100019  House of Fara 8 Linear ft. MDF Overlapping Wai...   \n",
       "27        113       100021  1804 Dual Spray Half Pattern 4 in Pop-Up Spray...   \n",
       "28        114       100021  1804 Dual Spray Half Pattern 4 in Pop-Up Spray...   \n",
       "29        117       100022  Samsung 4.2 cu. ft. Front Load Washer with Ste...   \n",
       "...       ...          ...                                                ...   \n",
       "74037  221398       206588  Cake Boss Decorating Tools 3-Piece Plastic Ici...   \n",
       "74038  221400       206589  Husky Universal Pass-Through Mechanics Tool Se...   \n",
       "74039  221401       206590    Crosley LaFayette Low Profile TV Stand in Black   \n",
       "74040  221404       206593  Rust-Oleum Automotive 8 oz. Special White Auto...   \n",
       "74041  221405       206594  Foremost Tides 33 in. to 35 in. x 65 in. Frame...   \n",
       "74042  221407       206596  Bali Cut-to-Size Crown 3.5 in. PVC Louver Set ...   \n",
       "74043  221408       206597  Home Fashion Technologies 14 in. x 59 in. Soli...   \n",
       "74044  221409       206598              Newport Coastal Photo Eye Replacement   \n",
       "74045  221411       206599  HYDRONIX 12 in. x 2-1/2 in. Inline Coconut Car...   \n",
       "74046  221412       206600  Worx 12 in. Ni-cd 24-Volt 3-5 Hour Charger Gra...   \n",
       "74047  221413       206601  3M Tekk Protection White Vented Hard Hat with ...   \n",
       "74048  221415       206602  Hy-Lite Glass Block Fixed Vinyl Windows Driftw...   \n",
       "74049  221416       206603  Westinghouse 3 ft. Oil Rubbed Bronze Beaded Ch...   \n",
       "74050  221419       206606  BEHR Premium Plus #ICC-101 Florentine Clay Zer...   \n",
       "74051  221420       206607  Home Legend Palace Oak Light 3/4 in. Thick x 3...   \n",
       "74052  221422       206609  Whitehaus Collection Isabella Wall-Mounted Bat...   \n",
       "74053  221423       206610  Champion Power Equipment 6.5 HP Gas-Powered 3 ...   \n",
       "74054  221426       206613                    Everbilt 4 in. White Wall Guard   \n",
       "74055  221427       206614  Daltile Villa Valleta Calais Springs 18 in. x ...   \n",
       "74056  221432       206619  Home Styles Stone Harbor 51 in. Round 7-Piece ...   \n",
       "74057  221434       206621  Crown Bolt M6-32 x 90 mm. Internal Hex Socket ...   \n",
       "74058  221443       206627           25 in. Stainless Tip-Out Sink Front Tray   \n",
       "74059  221449       206631  Masonite New Haven Three Quarter Oval Lite Pri...   \n",
       "74060  221450       206632  Lilly Miller UltraGreen 1 Gal. Vitamin B-1 Pla...   \n",
       "74061  221455       206637  Schluter Rondec Stainless Steel 3/8 in. x 1 in...   \n",
       "74062  221457       206638  Atlantic Windowpane 576 CD or 192 DVD Blu-Ray ...   \n",
       "74063  221458       206639  Philips 40-Watt Halogen R20 Flood Light Bulb (...   \n",
       "74064  221463       206641  Schlage Camelot In-Active Aged Bronze Handlese...   \n",
       "74065  221471       206648  Plastec 11 in. x 24 in. Rose Garden Wall Decor...   \n",
       "74066  221473       206650  LICHTENBERG Pool Blue No. 918 Millennial Ryan ...   \n",
       "\n",
       "                                      search_term  relevance  \n",
       "0                                   angle bracket       3.00  \n",
       "1                                       l bracket       2.50  \n",
       "2                                       deck over       3.00  \n",
       "3                                rain shower head       2.33  \n",
       "4                              shower only faucet       2.67  \n",
       "5                                  convection otr       3.00  \n",
       "6                            microwave over stove       2.67  \n",
       "7                                      microwaves       3.00  \n",
       "8                                 emergency light       2.67  \n",
       "9                                         mdf 3/4       3.00  \n",
       "10                                   steele stake       2.67  \n",
       "11                 briggs and stratton lawn mower       3.00  \n",
       "12                                       gas mowe       3.00  \n",
       "13                                    honda mower       2.00  \n",
       "14             hampton bay chestnut pull up shade       2.67  \n",
       "15                                       disposer       2.67  \n",
       "16                                   grill gazebo       3.00  \n",
       "17                                    door guards       1.00  \n",
       "18                         metal plate cover gcfi       1.67  \n",
       "19                                 radiator grate       2.33  \n",
       "20                                windows screens       2.33  \n",
       "21                       1x1 rail decorative wood       1.33  \n",
       "22                         4*8 beadboard paneling       2.67  \n",
       "23                               4x8wood paneling       2.33  \n",
       "24                                        MDF 4x8       1.33  \n",
       "25                            wainscot chair rail       2.33  \n",
       "26                        wainscot plank paneling       2.33  \n",
       "27                                 lawn sprkinler       2.00  \n",
       "28                             rainbird sprinkler       2.33  \n",
       "29                           PLATFORM FOR WASHERS       2.67  \n",
       "...                                           ...        ...  \n",
       "74037                plastic 3 piece nativity set       1.67  \n",
       "74038                  pass through curtain rings       1.33  \n",
       "74039                crosley lafayette kf30024bwh       2.33  \n",
       "74040                            dremel auto rust       2.33  \n",
       "74041                   privacy glass pivot doors       2.67  \n",
       "74042                alabaster blinds 39x72 alvin       1.67  \n",
       "74043       exterior shutter with movable louvers       3.00  \n",
       "74044                                 lightsensor       2.67  \n",
       "74045                      bypass 12 water filter       1.33  \n",
       "74046                                     ni-2.4v       2.00  \n",
       "74047                        hard hat with mining       1.67  \n",
       "74048    replace a broken glass in a vinyl window       2.00  \n",
       "74049                 ceiling fan with chain cord       1.00  \n",
       "74050                             florentine clay       2.33  \n",
       "74051                          trim a home lights       2.00  \n",
       "74052                     whitehaus bathroom sinl       2.33  \n",
       "74053                        6.5 hp gas generator       2.33  \n",
       "74054                      splash guard for  wall       2.00  \n",
       "74055                spicewood springs floor tile       1.67  \n",
       "74056                        laguna porcelin tile       2.00  \n",
       "74057                               m6 screw 90mm       2.67  \n",
       "74058                           sink tip-out tray       3.00  \n",
       "74059          fiberglass front doors by masonite       3.00  \n",
       "74060                          starter fertillzer       2.00  \n",
       "74061  rondec stainless steel 3/8 edge protection       3.00  \n",
       "74062                              tv riser glass       1.00  \n",
       "74063                           r20 halogen light       3.00  \n",
       "74064     schlage lock siena half dummy knob with       2.33  \n",
       "74065                           zen garden  decor       3.00  \n",
       "74066                fine sheer curtain 63 inches       2.33  \n",
       "\n",
       "[74067 rows x 5 columns]"
      ]
     },
     "execution_count": 6,
     "metadata": {},
     "output_type": "execute_result"
    }
   ],
   "source": [
    "df_train"
   ]
  },
  {
   "cell_type": "code",
   "execution_count": 637,
   "metadata": {
    "collapsed": true
   },
   "outputs": [],
   "source": [
    "df_train = df_train.drop('id', axis=1)"
   ]
  },
  {
   "cell_type": "code",
   "execution_count": 638,
   "metadata": {
    "collapsed": true
   },
   "outputs": [],
   "source": [
    "# import attribute data for both train and test data"
   ]
  },
  {
   "cell_type": "code",
   "execution_count": 639,
   "metadata": {
    "collapsed": false
   },
   "outputs": [],
   "source": [
    "df_attr = pd.read_csv('data/attributes.csv', encoding='ISO-8859-1')"
   ]
  },
  {
   "cell_type": "code",
   "execution_count": 640,
   "metadata": {
    "collapsed": true
   },
   "outputs": [],
   "source": [
    "# discard nan rows"
   ]
  },
  {
   "cell_type": "code",
   "execution_count": 641,
   "metadata": {
    "collapsed": true
   },
   "outputs": [],
   "source": [
    "df_attr = df_attr[np.isfinite(df_attr['product_uid'])]"
   ]
  },
  {
   "cell_type": "code",
   "execution_count": 642,
   "metadata": {
    "collapsed": true
   },
   "outputs": [],
   "source": [
    "# import product description data for both train and test data"
   ]
  },
  {
   "cell_type": "code",
   "execution_count": 643,
   "metadata": {
    "collapsed": true
   },
   "outputs": [],
   "source": [
    "df_dsp = pd.read_csv('data/product_descriptions.csv', encoding='ISO-8859-1')"
   ]
  },
  {
   "cell_type": "code",
   "execution_count": 644,
   "metadata": {
    "collapsed": true
   },
   "outputs": [],
   "source": [
    "# import test data"
   ]
  },
  {
   "cell_type": "code",
   "execution_count": 719,
   "metadata": {
    "collapsed": true
   },
   "outputs": [],
   "source": [
    "df_test = pd.read_csv('data/test.csv', encoding='ISO-8859-1')"
   ]
  },
  {
   "cell_type": "code",
   "execution_count": 720,
   "metadata": {
    "collapsed": true
   },
   "outputs": [],
   "source": [
    "id_test = df_test['id']"
   ]
  },
  {
   "cell_type": "code",
   "execution_count": 646,
   "metadata": {
    "collapsed": false
   },
   "outputs": [],
   "source": [
    "df_test = df_test.drop('id', axis=1)"
   ]
  },
  {
   "cell_type": "code",
   "execution_count": 647,
   "metadata": {
    "collapsed": true
   },
   "outputs": [],
   "source": [
    "# stemmer to extract stmmer of english words"
   ]
  },
  {
   "cell_type": "code",
   "execution_count": 648,
   "metadata": {
    "collapsed": true
   },
   "outputs": [],
   "source": [
    "stemmer = SnowballStemmer('english')"
   ]
  },
  {
   "cell_type": "code",
   "execution_count": 649,
   "metadata": {
    "collapsed": false
   },
   "outputs": [],
   "source": [
    "def str_stemmer(s):\n",
    "    return \" \".join([stemmer.stem(word) for word in s.lower().split()])"
   ]
  },
  {
   "cell_type": "code",
   "execution_count": 650,
   "metadata": {
    "collapsed": true
   },
   "outputs": [],
   "source": [
    "def str_common_word(str1, str2):\n",
    "    return sum(int(str2.find(word)>=0) for word in str1.split())"
   ]
  },
  {
   "cell_type": "code",
   "execution_count": 651,
   "metadata": {
    "collapsed": true
   },
   "outputs": [],
   "source": [
    "# distribution of relevance values in train data"
   ]
  },
  {
   "cell_type": "code",
   "execution_count": 652,
   "metadata": {
    "collapsed": false,
    "scrolled": true
   },
   "outputs": [
    {
     "data": {
      "text/plain": [
       "(array([  2.10500000e+03,   3.01000000e+03,   5.00000000e+00,\n",
       "          6.78900000e+03,   0.00000000e+00,   1.17300000e+04,\n",
       "          1.60710000e+04,   1.90000000e+01,   1.52130000e+04,\n",
       "          1.91250000e+04]),\n",
       " array([ 1. ,  1.2,  1.4,  1.6,  1.8,  2. ,  2.2,  2.4,  2.6,  2.8,  3. ]),\n",
       " <a list of 10 Patch objects>)"
      ]
     },
     "execution_count": 652,
     "metadata": {},
     "output_type": "execute_result"
    },
    {
     "data": {
      "image/png": "[encoded data removed]",
      "text/plain": [
       "<matplotlib.figure.Figure at 0x21bfbecc0>"
      ]
     },
     "metadata": {},
     "output_type": "display_data"
    }
   ],
   "source": [
    "plt.hist(df_train.relevance)"
   ]
  },
  {
   "cell_type": "code",
   "execution_count": 653,
   "metadata": {
    "collapsed": true
   },
   "outputs": [],
   "source": [
    "# distribution of search terms length in train data"
   ]
  },
  {
   "cell_type": "code",
   "execution_count": 654,
   "metadata": {
    "collapsed": false
   },
   "outputs": [
    {
     "data": {
      "text/plain": [
       "<matplotlib.axes._subplots.AxesSubplot at 0x21bfd2550>"
      ]
     },
     "execution_count": 654,
     "metadata": {},
     "output_type": "execute_result"
    },
    {
     "data": {
      "image/png": "[encoded data removed]",
      "text/plain": [
       "<matplotlib.figure.Figure at 0x21bfda8d0>"
      ]
     },
     "metadata": {},
     "output_type": "display_data"
    }
   ],
   "source": [
    "(df_train.search_term.str.count(\"\\\\s+\") + 1).hist(bins=30)\n",
    "# \\s matches any whitespace character"
   ]
  },
  {
   "cell_type": "code",
   "execution_count": 655,
   "metadata": {
    "collapsed": false
   },
   "outputs": [],
   "source": [
    "# df_train['search_term_len'] = df_train.search_term.str.count('\\s')+1"
   ]
  },
  {
   "cell_type": "code",
   "execution_count": 656,
   "metadata": {
    "collapsed": true
   },
   "outputs": [],
   "source": [
    "# merge peoduct descriprion into train and test data"
   ]
  },
  {
   "cell_type": "code",
   "execution_count": 657,
   "metadata": {
    "collapsed": false
   },
   "outputs": [],
   "source": [
    "df_train = pd.merge(df_train, df_dsp, on='product_uid')"
   ]
  },
  {
   "cell_type": "code",
   "execution_count": 658,
   "metadata": {
    "collapsed": true
   },
   "outputs": [],
   "source": [
    "df_test = pd.merge(df_test, df_dsp, on='product_uid')"
   ]
  },
  {
   "cell_type": "code",
   "execution_count": 659,
   "metadata": {
    "collapsed": true
   },
   "outputs": [],
   "source": [
    "# group attribute data by product_uid and combine all text for each uid"
   ]
  },
  {
   "cell_type": "code",
   "execution_count": 660,
   "metadata": {
    "collapsed": true
   },
   "outputs": [],
   "source": [
    "gb_attr = df_attr.groupby('product_uid')"
   ]
  },
  {
   "cell_type": "code",
   "execution_count": 661,
   "metadata": {
    "collapsed": true
   },
   "outputs": [],
   "source": [
    "df_attr_combi = pd.DataFrame()"
   ]
  },
  {
   "cell_type": "code",
   "execution_count": 662,
   "metadata": {
    "collapsed": false
   },
   "outputs": [],
   "source": [
    "df_attr_combi['product_uid'] = np.unique(df_attr['product_uid'])"
   ]
  },
  {
   "cell_type": "code",
   "execution_count": 663,
   "metadata": {
    "collapsed": false
   },
   "outputs": [],
   "source": [
    "df_attr_combi['attribute'] = [' '.join([str(n) + ' ' + str(v) for (n, v) in zip(\n",
    "        gb_attr.get_group(uid)['name'],\n",
    "        gb_attr.get_group(uid)['value'])\n",
    "        ])for uid in df_attr_combi['product_uid']]"
   ]
  },
  {
   "cell_type": "code",
   "execution_count": 664,
   "metadata": {
    "collapsed": true
   },
   "outputs": [],
   "source": [
    "# merge attribute data into train and test data"
   ]
  },
  {
   "cell_type": "code",
   "execution_count": 665,
   "metadata": {
    "collapsed": false
   },
   "outputs": [],
   "source": [
    "df_train = pd.merge(df_train, df_attr_combi, how='left', on='product_uid')"
   ]
  },
  {
   "cell_type": "code",
   "execution_count": 666,
   "metadata": {
    "collapsed": true
   },
   "outputs": [],
   "source": [
    "df_test = pd.merge(df_test, df_attr_combi, how='left', on='product_uid')"
   ]
  },
  {
   "cell_type": "code",
   "execution_count": 667,
   "metadata": {
    "collapsed": true
   },
   "outputs": [],
   "source": [
    "# combine all text data into one feature -- title + description + attribute"
   ]
  },
  {
   "cell_type": "code",
   "execution_count": 668,
   "metadata": {
    "collapsed": false
   },
   "outputs": [],
   "source": [
    "df_train['all_text'] = df_train['product_title']+ ' ' + df_train['product_description']+' '+ df_train['attribute']"
   ]
  },
  {
   "cell_type": "code",
   "execution_count": 669,
   "metadata": {
    "collapsed": true
   },
   "outputs": [],
   "source": [
    "df_test['all_text'] = df_test['product_title']+ ' ' + df_test['product_description']+' '+ df_test['attribute']"
   ]
  },
  {
   "cell_type": "code",
   "execution_count": 674,
   "metadata": {
    "collapsed": true
   },
   "outputs": [],
   "source": [
    "feature_cols = ['product_uid', 'product_title', 'product_description', \n",
    "                'attribute', 'all_text','search_term']"
   ]
  },
  {
   "cell_type": "code",
   "execution_count": 676,
   "metadata": {
    "collapsed": true
   },
   "outputs": [
    {
     "name": "stdout",
     "output_type": "stream",
     "text": [
      "<class 'pandas.core.frame.DataFrame'>\n",
      "Int64Index: 74067 entries, 0 to 74066\n",
      "Data columns (total 6 columns):\n",
      "product_uid            74067 non-null int64\n",
      "product_title          74067 non-null object\n",
      "search_term            74067 non-null object\n",
      "product_description    74067 non-null object\n",
      "attribute              56547 non-null object\n",
      "all_text               56547 non-null object\n",
      "dtypes: int64(1), object(5)\n",
      "memory usage: 4.0+ MB\n"
     ]
    }
   ],
   "source": [
    "df_train[feature_cols].info()"
   ]
  },
  {
   "cell_type": "code",
   "execution_count": 677,
   "metadata": {
    "collapsed": true
   },
   "outputs": [
    {
     "name": "stdout",
     "output_type": "stream",
     "text": [
      "<class 'pandas.core.frame.DataFrame'>\n",
      "Int64Index: 166693 entries, 0 to 166692\n",
      "Data columns (total 6 columns):\n",
      "product_uid            166693 non-null int64\n",
      "product_title          166693 non-null object\n",
      "search_term            166693 non-null object\n",
      "product_description    166693 non-null object\n",
      "attribute              138388 non-null object\n",
      "all_text               138388 non-null object\n",
      "dtypes: int64(1), object(5)\n",
      "memory usage: 8.9+ MB\n"
     ]
    }
   ],
   "source": [
    "df_test[feature_cols].info()"
   ]
  },
  {
   "cell_type": "markdown",
   "metadata": {
    "collapsed": true
   },
   "source": [
    "digit_cols = ['search_term_len' ,'term_in_dsp', 'term_in_title', \n",
    "        'term_in_attr', 'term_in_all', 'relevance']"
   ]
  },
  {
   "cell_type": "markdown",
   "metadata": {},
   "source": [
    "corr = df_train[digit_cols].corr()"
   ]
  },
  {
   "cell_type": "markdown",
   "metadata": {},
   "source": [
    "fig, ax = plt.subplots()\n",
    "heatmap = plt.pcolor(corr, cmap=plt.cm.Blues, alpha=0.7)\n",
    "ax.set_yticks(np.arange(len(digit_cols)) + 0.5, minor=False)\n",
    "ax.set_xticks(np.arange(len(digit_cols)) + 0.5, minor=False)\n",
    "ax.set_xticklabels(digit_cols, rotation=90)\n",
    "ax.set_yticklabels(digit_cols)\n",
    "plt.colorbar()"
   ]
  },
  {
   "cell_type": "code",
   "execution_count": 627,
   "metadata": {
    "collapsed": false
   },
   "outputs": [],
   "source": [
    "class ItemSelector(BaseEstimator, TransformerMixin):\n",
    "    '''\n",
    "    this transformer is used to select subset of data at provided keys \n",
    "    \n",
    "    Parameters\n",
    "    ----------\n",
    "    key : list, required\n",
    "        list-like \n",
    "        The key corresponding to the column index of the dataframe.\n",
    "    '''\n",
    "    def __init__(self, key):\n",
    "        self.key = key\n",
    "    def fit(self, X, y=None):\n",
    "        return self\n",
    "    def transform(self, X, y=None):\n",
    "        return X.ix[:, self.key]"
   ]
  },
  {
   "cell_type": "code",
   "execution_count": 707,
   "metadata": {
    "collapsed": false
   },
   "outputs": [],
   "source": [
    "class Len_text(BaseEstimator, TransformerMixin):\n",
    "    '''\n",
    "    this transformer is used to calculate length of a text\n",
    "    '''\n",
    "    def __init__(self):\n",
    "        return None\n",
    "    def fit(self, X, y=None):\n",
    "        return self\n",
    "    def transform(self, X, y=None):\n",
    "        # X is a dataframe\n",
    "        new_X = []\n",
    "        for c in X.columns:\n",
    "            new_X.append(X[c].str.count('\\s')+1)\n",
    "        return np.array(new_X).reshape(-1, 1)"
   ]
  },
  {
   "cell_type": "code",
   "execution_count": 708,
   "metadata": {
    "collapsed": true
   },
   "outputs": [],
   "source": [
    "class Stemm_text(BaseEstimator, TransformerMixin):\n",
    "    '''\n",
    "    this transformer is used to extract the stemmers of words in a text\n",
    "    '''\n",
    "    def __init__(self):\n",
    "        return None\n",
    "    def fit(self, X, y=None):\n",
    "        return self\n",
    "    def transform(self, X, y=None):\n",
    "        # X is a dataframe\n",
    "        new_X = []\n",
    "        for c in X.columns:\n",
    "            new_X.append([str_stemmer(str(s)) for s in X[c]])\n",
    "        return new_X"
   ]
  },
  {
   "cell_type": "code",
   "execution_count": 761,
   "metadata": {
    "collapsed": true
   },
   "outputs": [],
   "source": [
    "class Commen_word(BaseEstimator, TransformerMixin):\n",
    "    '''\n",
    "    check how many commen words two texts have\n",
    "    '''\n",
    "    def __init__(self):\n",
    "        return None\n",
    "    def fit(self, X, y=None):\n",
    "        return self\n",
    "    def transform(self, X, y=None):\n",
    "        # X is a list\n",
    "        return np.array([str_common_word(a, b) for (a, b) in zip(X[1], X[0])]).reshape(-1, 1) "
   ]
  },
  {
   "cell_type": "code",
   "execution_count": 751,
   "metadata": {
    "collapsed": false,
    "scrolled": false
   },
   "outputs": [
    {
     "data": {
      "text/plain": [
       "Index(['product_uid', 'product_title', 'search_term', 'product_description',\n",
       "       'attribute', 'all_text'],\n",
       "      dtype='object')"
      ]
     },
     "execution_count": 751,
     "metadata": {},
     "output_type": "execute_result"
    }
   ],
   "source": [
    "df_train[feature_cols].columns"
   ]
  },
  {
   "cell_type": "code",
   "execution_count": 752,
   "metadata": {
    "collapsed": false
   },
   "outputs": [],
   "source": [
    "feat_union = FeatureUnion(\n",
    "        transformer_list=[\n",
    "            ('term_len', Pipeline([\n",
    "                ('selector', ItemSelector(key=[2])),\n",
    "                ('text_length', Len_text()),\n",
    "            ])),\n",
    "            ('term_in_title', Pipeline([\n",
    "                ('selector', ItemSelector(key=[1, 2])),\n",
    "                ('stemm_text', Stemm_text()),\n",
    "                ('commen_word', Commen_word()),\n",
    "            ])),\n",
    "            ('term_in_dsp', Pipeline([\n",
    "                ('selector', ItemSelector(key=[3, 2])),\n",
    "                ('stemm_text', Stemm_text()),\n",
    "                ('commen_word', Commen_word()),\n",
    "            ])),\n",
    "            #('term_in_attr', Pipeline([\n",
    "             #   ('selector', ItemSelector(key=[4, 2])),\n",
    "              #  ('stemm_text', Stemm_text()),\n",
    "               # ('commen_word', Commen_word()),\n",
    "            #])),\n",
    "           # ('term_in_all', Pipeline([\n",
    "            #    ('selector', ItemSelector(key=[5, 2])),\n",
    "             #   ('stemm_text', Stemm_text()),\n",
    "              #  ('commen_word', Commen_word()),\n",
    "            #])),\n",
    "        ],\n",
    "        n_jobs=5\n",
    "    )\n"
   ]
  },
  {
   "cell_type": "code",
   "execution_count": 753,
   "metadata": {
    "collapsed": false
   },
   "outputs": [],
   "source": [
    "rf = RandomForestRegressor(n_estimators=15, max_depth=6, random_state=0)\n",
    "clf = BaggingRegressor(rf, n_estimators=45, max_samples=0.1, random_state=25)"
   ]
  },
  {
   "cell_type": "code",
   "execution_count": 754,
   "metadata": {
    "collapsed": false
   },
   "outputs": [],
   "source": [
    "pipeline = Pipeline([\n",
    "        ('feat_union', feat_union),\n",
    "        #('model', RandomForestRegressor(n_estimators=100))   \n",
    "        ('model', clf)\n",
    "    ])"
   ]
  },
  {
   "cell_type": "code",
   "execution_count": 756,
   "metadata": {
    "collapsed": false
   },
   "outputs": [
    {
     "name": "stdout",
     "output_type": "stream",
     "text": [
      "CPU times: user 5.08 s, sys: 1.26 s, total: 6.34 s\n",
      "Wall time: 3min 31s\n"
     ]
    },
    {
     "data": {
      "text/plain": [
       "Pipeline(steps=[('feat_union', FeatureUnion(n_jobs=5,\n",
       "       transformer_list=[('term_len', Pipeline(steps=[('selector', ItemSelector(key=[2])), ('text_length', Len_text())])), ('term_in_title', Pipeline(steps=[('selector', ItemSelector(key=[1, 2])), ('stemm_text', Stemm_text()), ('commen_word', Commen_word(...n_estimators=45, n_jobs=1, oob_score=False,\n",
       "         random_state=25, verbose=0, warm_start=False))])"
      ]
     },
     "execution_count": 756,
     "metadata": {},
     "output_type": "execute_result"
    }
   ],
   "source": [
    "%time pipeline.fit(df_train[feature_cols], df_train['relevance'].values)"
   ]
  },
  {
   "cell_type": "code",
   "execution_count": 757,
   "metadata": {
    "collapsed": false,
    "scrolled": true
   },
   "outputs": [
    {
     "name": "stdout",
     "output_type": "stream",
     "text": [
      "CPU times: user 7.67 s, sys: 3.03 s, total: 10.7 s\n",
      "Wall time: 8min 13s\n"
     ]
    }
   ],
   "source": [
    "%time y_pred = pipeline.predict(df_test)"
   ]
  },
  {
   "cell_type": "code",
   "execution_count": 758,
   "metadata": {
    "collapsed": true
   },
   "outputs": [],
   "source": [
    "# create a submission"
   ]
  },
  {
   "cell_type": "code",
   "execution_count": 759,
   "metadata": {
    "collapsed": false
   },
   "outputs": [],
   "source": [
    "pd.DataFrame({'id': id_test, 'relevance': y_pred}).to_csv('submission_4.csv',index=False)"
   ]
  },
  {
   "cell_type": "code",
   "execution_count": 762,
   "metadata": {
    "collapsed": true
   },
   "outputs": [],
   "source": [
    "# 0.49778"
   ]
  }
 ],
 "metadata": {
  "kernelspec": {
   "display_name": "Python 2",
   "language": "python",
   "name": "python2"
  },
  "language_info": {
   "codemirror_mode": {
    "name": "ipython",
    "version": 2
   },
   "file_extension": ".py",
   "mimetype": "text/x-python",
   "name": "python",
   "nbconvert_exporter": "python",
   "pygments_lexer": "ipython2",
   "version": "2.7.11"
  }
 },
 "nbformat": 4,
 "nbformat_minor": 0
}
