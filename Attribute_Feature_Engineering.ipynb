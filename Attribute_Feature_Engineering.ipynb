{
 "cells": [
  {
   "cell_type": "code",
   "execution_count": 3,
   "metadata": {
    "collapsed": false
   },
   "outputs": [
    {
     "ename": "ImportError",
     "evalue": "No module named gensim",
     "output_type": "error",
     "traceback": [
      "\u001b[0;31m---------------------------------------------------------------------------\u001b[0m",
      "\u001b[0;31mImportError\u001b[0m                               Traceback (most recent call last)",
      "\u001b[0;32m<ipython-input-3-5847698e8e3a>\u001b[0m in \u001b[0;36m<module>\u001b[0;34m()\u001b[0m\n\u001b[1;32m      5\u001b[0m \u001b[0;32mfrom\u001b[0m \u001b[0mnltk\u001b[0m\u001b[0;34m.\u001b[0m\u001b[0mstem\u001b[0m\u001b[0;34m.\u001b[0m\u001b[0msnowball\u001b[0m \u001b[0;32mimport\u001b[0m \u001b[0mSnowballStemmer\u001b[0m\u001b[0;34m\u001b[0m\u001b[0m\n\u001b[1;32m      6\u001b[0m \u001b[0;32mfrom\u001b[0m \u001b[0mnltk\u001b[0m\u001b[0;34m.\u001b[0m\u001b[0mstem\u001b[0m\u001b[0;34m.\u001b[0m\u001b[0mwordnet\u001b[0m \u001b[0;32mimport\u001b[0m \u001b[0mWordNetLemmatizer\u001b[0m\u001b[0;34m\u001b[0m\u001b[0m\n\u001b[0;32m----> 7\u001b[0;31m \u001b[0;32mfrom\u001b[0m \u001b[0mgensim\u001b[0m \u001b[0;32mimport\u001b[0m \u001b[0mcorpora\u001b[0m\u001b[0;34m,\u001b[0m \u001b[0mmodels\u001b[0m\u001b[0;34m,\u001b[0m \u001b[0msimilarities\u001b[0m\u001b[0;34m\u001b[0m\u001b[0m\n\u001b[0m\u001b[1;32m      8\u001b[0m \u001b[0;34m\u001b[0m\u001b[0m\n\u001b[1;32m      9\u001b[0m \u001b[0mget_ipython\u001b[0m\u001b[0;34m(\u001b[0m\u001b[0;34m)\u001b[0m\u001b[0;34m.\u001b[0m\u001b[0mmagic\u001b[0m\u001b[0;34m(\u001b[0m\u001b[0;34mu'matplotlib inline'\u001b[0m\u001b[0;34m)\u001b[0m\u001b[0;34m\u001b[0m\u001b[0m\n",
      "\u001b[0;31mImportError\u001b[0m: No module named gensim"
     ]
    }
   ],
   "source": [
    "import pandas as pd\n",
    "import numpy as np\n",
    "import matplotlib.pylab as plt\n",
    "from collections import Counter\n",
    "from nltk.stem.snowball import SnowballStemmer\n",
    "from nltk.stem.wordnet import WordNetLemmatizer\n",
    "from gensim import corpora, models, similarities\n",
    "\n",
    "%matplotlib inline"
   ]
  },
  {
   "cell_type": "code",
   "execution_count": null,
   "metadata": {
    "collapsed": true
   },
   "outputs": [],
   "source": [
    "df_attr = pd.read_csv('data/attributes.csv', encoding='ISO-8859-1')"
   ]
  },
  {
   "cell_type": "code",
   "execution_count": null,
   "metadata": {
    "collapsed": true
   },
   "outputs": [],
   "source": [
    "df_attr = df_attr[np.isfinite(df_attr['product_uid'])]"
   ]
  },
  {
   "cell_type": "code",
   "execution_count": 4,
   "metadata": {
    "collapsed": false,
    "scrolled": true
   },
   "outputs": [
    {
     "ename": "NameError",
     "evalue": "name 'df_attr' is not defined",
     "output_type": "error",
     "traceback": [
      "\u001b[0;31m---------------------------------------------------------------------------\u001b[0m",
      "\u001b[0;31mNameError\u001b[0m                                 Traceback (most recent call last)",
      "\u001b[0;32m<ipython-input-4-9bc3d6b01ad6>\u001b[0m in \u001b[0;36m<module>\u001b[0;34m()\u001b[0m\n\u001b[0;32m----> 1\u001b[0;31m \u001b[0mdf_attr\u001b[0m\u001b[0;34m.\u001b[0m\u001b[0mhead\u001b[0m\u001b[0;34m(\u001b[0m\u001b[0;34m)\u001b[0m\u001b[0;34m\u001b[0m\u001b[0m\n\u001b[0m",
      "\u001b[0;31mNameError\u001b[0m: name 'df_attr' is not defined"
     ]
    }
   ],
   "source": [
    "df_attr.head()"
   ]
  },
  {
   "cell_type": "code",
   "execution_count": 17,
   "metadata": {
    "collapsed": true
   },
   "outputs": [],
   "source": [
    "gp_attr = df_attr.groupby('product_uid')"
   ]
  },
  {
   "cell_type": "code",
   "execution_count": 59,
   "metadata": {
    "collapsed": true
   },
   "outputs": [
    {
     "data": {
      "text/html": [
       "<div>\n",
       "<table border=\"1\" class=\"dataframe\">\n",
       "  <thead>\n",
       "    <tr style=\"text-align: right;\">\n",
       "      <th></th>\n",
       "      <th>product_uid</th>\n",
       "      <th>name</th>\n",
       "      <th>value</th>\n",
       "    </tr>\n",
       "  </thead>\n",
       "  <tbody>\n",
       "    <tr>\n",
       "      <th>132</th>\n",
       "      <td>100006</td>\n",
       "      <td>Appliance Type</td>\n",
       "      <td>Over the Range Microwave</td>\n",
       "    </tr>\n",
       "    <tr>\n",
       "      <th>133</th>\n",
       "      <td>100006</td>\n",
       "      <td>Assembled Depth (in.)</td>\n",
       "      <td>18.5 in</td>\n",
       "    </tr>\n",
       "    <tr>\n",
       "      <th>134</th>\n",
       "      <td>100006</td>\n",
       "      <td>Assembled Height (in.)</td>\n",
       "      <td>17.13 in</td>\n",
       "    </tr>\n",
       "    <tr>\n",
       "      <th>135</th>\n",
       "      <td>100006</td>\n",
       "      <td>Assembled Width (in.)</td>\n",
       "      <td>29.94 in</td>\n",
       "    </tr>\n",
       "    <tr>\n",
       "      <th>136</th>\n",
       "      <td>100006</td>\n",
       "      <td>Bullet01</td>\n",
       "      <td>Spacious 1.9 cu. ft. capacity accommodates din...</td>\n",
       "    </tr>\n",
       "    <tr>\n",
       "      <th>137</th>\n",
       "      <td>100006</td>\n",
       "      <td>Bullet02</td>\n",
       "      <td>1100 watts of cooking power and 10 cooking lev...</td>\n",
       "    </tr>\n",
       "    <tr>\n",
       "      <th>138</th>\n",
       "      <td>100006</td>\n",
       "      <td>Bullet03</td>\n",
       "      <td>400 CFM venting system whisks smoke, steam and...</td>\n",
       "    </tr>\n",
       "    <tr>\n",
       "      <th>139</th>\n",
       "      <td>100006</td>\n",
       "      <td>Bullet04</td>\n",
       "      <td>Single piece door with built-in touch-activate...</td>\n",
       "    </tr>\n",
       "    <tr>\n",
       "      <th>140</th>\n",
       "      <td>100006</td>\n",
       "      <td>Bullet05</td>\n",
       "      <td>Cook with confidence with the Sensor and Progr...</td>\n",
       "    </tr>\n",
       "    <tr>\n",
       "      <th>141</th>\n",
       "      <td>100006</td>\n",
       "      <td>Bullet06</td>\n",
       "      <td>Kids' Menu: it's simple, it's fast. The Kids' ...</td>\n",
       "    </tr>\n",
       "    <tr>\n",
       "      <th>142</th>\n",
       "      <td>100006</td>\n",
       "      <td>Bullet07</td>\n",
       "      <td>TimeSavor Plus True Convection cooking uses a ...</td>\n",
       "    </tr>\n",
       "    <tr>\n",
       "      <th>143</th>\n",
       "      <td>100006</td>\n",
       "      <td>Bullet08</td>\n",
       "      <td>Industry leading CleanRelease non-stick interi...</td>\n",
       "    </tr>\n",
       "    <tr>\n",
       "      <th>144</th>\n",
       "      <td>100006</td>\n",
       "      <td>Bullet09</td>\n",
       "      <td>Recessed turntable's on/off feature is especia...</td>\n",
       "    </tr>\n",
       "    <tr>\n",
       "      <th>145</th>\n",
       "      <td>100006</td>\n",
       "      <td>Bullet10</td>\n",
       "      <td>Automatic interior incandescent light and larg...</td>\n",
       "    </tr>\n",
       "    <tr>\n",
       "      <th>146</th>\n",
       "      <td>100006</td>\n",
       "      <td>Bullet11</td>\n",
       "      <td>4-speed fan with Auto Vent Fan function. To ke...</td>\n",
       "    </tr>\n",
       "    <tr>\n",
       "      <th>147</th>\n",
       "      <td>100006</td>\n",
       "      <td>Bullet12</td>\n",
       "      <td>Replaceable charcoal and dishwasher safe mesh ...</td>\n",
       "    </tr>\n",
       "    <tr>\n",
       "      <th>148</th>\n",
       "      <td>100006</td>\n",
       "      <td>Bullet13</td>\n",
       "      <td>90Â° hinge. With this innovative hinge design ...</td>\n",
       "    </tr>\n",
       "    <tr>\n",
       "      <th>149</th>\n",
       "      <td>100006</td>\n",
       "      <td>Bullet14</td>\n",
       "      <td>Limited 1-year warranty</td>\n",
       "    </tr>\n",
       "    <tr>\n",
       "      <th>150</th>\n",
       "      <td>100006</td>\n",
       "      <td>Bullet15</td>\n",
       "      <td>Convertible venting. Can be installed as vente...</td>\n",
       "    </tr>\n",
       "    <tr>\n",
       "      <th>151</th>\n",
       "      <td>100006</td>\n",
       "      <td>Bullet16</td>\n",
       "      <td>AccuPop cycle senses the perfect pop every tim...</td>\n",
       "    </tr>\n",
       "    <tr>\n",
       "      <th>152</th>\n",
       "      <td>100006</td>\n",
       "      <td>Bullet17</td>\n",
       "      <td>Included items: convection rack, SureMist stea...</td>\n",
       "    </tr>\n",
       "    <tr>\n",
       "      <th>153</th>\n",
       "      <td>100006</td>\n",
       "      <td>Capacity of Microwave (cu. ft.)</td>\n",
       "      <td>1.9</td>\n",
       "    </tr>\n",
       "    <tr>\n",
       "      <th>154</th>\n",
       "      <td>100006</td>\n",
       "      <td>Certifications and Listings</td>\n",
       "      <td>1-UL Listed</td>\n",
       "    </tr>\n",
       "    <tr>\n",
       "      <th>155</th>\n",
       "      <td>100006</td>\n",
       "      <td>Color/Finish</td>\n",
       "      <td>Stainless Steel</td>\n",
       "    </tr>\n",
       "    <tr>\n",
       "      <th>156</th>\n",
       "      <td>100006</td>\n",
       "      <td>Color/Finish Family</td>\n",
       "      <td>Stainless</td>\n",
       "    </tr>\n",
       "    <tr>\n",
       "      <th>157</th>\n",
       "      <td>100006</td>\n",
       "      <td>Cut-Out Front to Back Width (in.)</td>\n",
       "      <td>12</td>\n",
       "    </tr>\n",
       "    <tr>\n",
       "      <th>158</th>\n",
       "      <td>100006</td>\n",
       "      <td>Cut-Out Height (in.)</td>\n",
       "      <td>17.13</td>\n",
       "    </tr>\n",
       "    <tr>\n",
       "      <th>159</th>\n",
       "      <td>100006</td>\n",
       "      <td>Cut-Out Left to Right Length (in.)</td>\n",
       "      <td>30</td>\n",
       "    </tr>\n",
       "    <tr>\n",
       "      <th>160</th>\n",
       "      <td>100006</td>\n",
       "      <td>Door Swing/Style</td>\n",
       "      <td>Right to Left Swing</td>\n",
       "    </tr>\n",
       "    <tr>\n",
       "      <th>161</th>\n",
       "      <td>100006</td>\n",
       "      <td>Exhaust Fan Speeds</td>\n",
       "      <td>4</td>\n",
       "    </tr>\n",
       "    <tr>\n",
       "      <th>162</th>\n",
       "      <td>100006</td>\n",
       "      <td>Exhaust Maximum CFM</td>\n",
       "      <td>400</td>\n",
       "    </tr>\n",
       "    <tr>\n",
       "      <th>163</th>\n",
       "      <td>100006</td>\n",
       "      <td>MFG Brand Name</td>\n",
       "      <td>Whirlpool</td>\n",
       "    </tr>\n",
       "    <tr>\n",
       "      <th>164</th>\n",
       "      <td>100006</td>\n",
       "      <td>Microwave Door Release</td>\n",
       "      <td>Pull</td>\n",
       "    </tr>\n",
       "    <tr>\n",
       "      <th>165</th>\n",
       "      <td>100006</td>\n",
       "      <td>Microwave Features</td>\n",
       "      <td>Charcoal Filter,Clock,Convection,Cooktop Light...</td>\n",
       "    </tr>\n",
       "    <tr>\n",
       "      <th>166</th>\n",
       "      <td>100006</td>\n",
       "      <td>Microwave Size</td>\n",
       "      <td>30 in.</td>\n",
       "    </tr>\n",
       "    <tr>\n",
       "      <th>167</th>\n",
       "      <td>100006</td>\n",
       "      <td>Number of One-Touch Settings</td>\n",
       "      <td>6</td>\n",
       "    </tr>\n",
       "    <tr>\n",
       "      <th>168</th>\n",
       "      <td>100006</td>\n",
       "      <td>Number of Power Levels</td>\n",
       "      <td>10</td>\n",
       "    </tr>\n",
       "    <tr>\n",
       "      <th>169</th>\n",
       "      <td>100006</td>\n",
       "      <td>Oven Settings</td>\n",
       "      <td>Defrost,Keep Warm,Sensor Cook</td>\n",
       "    </tr>\n",
       "    <tr>\n",
       "      <th>170</th>\n",
       "      <td>100006</td>\n",
       "      <td>Product Depth (in.)</td>\n",
       "      <td>18.5</td>\n",
       "    </tr>\n",
       "    <tr>\n",
       "      <th>171</th>\n",
       "      <td>100006</td>\n",
       "      <td>Product Height (in.)</td>\n",
       "      <td>17.13</td>\n",
       "    </tr>\n",
       "    <tr>\n",
       "      <th>172</th>\n",
       "      <td>100006</td>\n",
       "      <td>Product Weight (lb.)</td>\n",
       "      <td>67.1</td>\n",
       "    </tr>\n",
       "    <tr>\n",
       "      <th>173</th>\n",
       "      <td>100006</td>\n",
       "      <td>Product Width (in.)</td>\n",
       "      <td>29.94</td>\n",
       "    </tr>\n",
       "    <tr>\n",
       "      <th>174</th>\n",
       "      <td>100006</td>\n",
       "      <td>Safety Listing</td>\n",
       "      <td>UL</td>\n",
       "    </tr>\n",
       "    <tr>\n",
       "      <th>175</th>\n",
       "      <td>100006</td>\n",
       "      <td>Sensor Cook</td>\n",
       "      <td>Yes</td>\n",
       "    </tr>\n",
       "    <tr>\n",
       "      <th>176</th>\n",
       "      <td>100006</td>\n",
       "      <td>Turntable</td>\n",
       "      <td>Yes</td>\n",
       "    </tr>\n",
       "    <tr>\n",
       "      <th>177</th>\n",
       "      <td>100006</td>\n",
       "      <td>Turntable Diameter</td>\n",
       "      <td>14</td>\n",
       "    </tr>\n",
       "    <tr>\n",
       "      <th>178</th>\n",
       "      <td>100006</td>\n",
       "      <td>Vent Type</td>\n",
       "      <td>Convertible</td>\n",
       "    </tr>\n",
       "    <tr>\n",
       "      <th>179</th>\n",
       "      <td>100006</td>\n",
       "      <td>Wattage (watts)</td>\n",
       "      <td>1100</td>\n",
       "    </tr>\n",
       "  </tbody>\n",
       "</table>\n",
       "</div>"
      ],
      "text/plain": [
       "     product_uid                                name  \\\n",
       "132       100006                      Appliance Type   \n",
       "133       100006               Assembled Depth (in.)   \n",
       "134       100006              Assembled Height (in.)   \n",
       "135       100006               Assembled Width (in.)   \n",
       "136       100006                            Bullet01   \n",
       "137       100006                            Bullet02   \n",
       "138       100006                            Bullet03   \n",
       "139       100006                            Bullet04   \n",
       "140       100006                            Bullet05   \n",
       "141       100006                            Bullet06   \n",
       "142       100006                            Bullet07   \n",
       "143       100006                            Bullet08   \n",
       "144       100006                            Bullet09   \n",
       "145       100006                            Bullet10   \n",
       "146       100006                            Bullet11   \n",
       "147       100006                            Bullet12   \n",
       "148       100006                            Bullet13   \n",
       "149       100006                            Bullet14   \n",
       "150       100006                            Bullet15   \n",
       "151       100006                            Bullet16   \n",
       "152       100006                            Bullet17   \n",
       "153       100006     Capacity of Microwave (cu. ft.)   \n",
       "154       100006         Certifications and Listings   \n",
       "155       100006                        Color/Finish   \n",
       "156       100006                 Color/Finish Family   \n",
       "157       100006   Cut-Out Front to Back Width (in.)   \n",
       "158       100006                Cut-Out Height (in.)   \n",
       "159       100006  Cut-Out Left to Right Length (in.)   \n",
       "160       100006                    Door Swing/Style   \n",
       "161       100006                  Exhaust Fan Speeds   \n",
       "162       100006                 Exhaust Maximum CFM   \n",
       "163       100006                      MFG Brand Name   \n",
       "164       100006              Microwave Door Release   \n",
       "165       100006                  Microwave Features   \n",
       "166       100006                      Microwave Size   \n",
       "167       100006        Number of One-Touch Settings   \n",
       "168       100006              Number of Power Levels   \n",
       "169       100006                       Oven Settings   \n",
       "170       100006                 Product Depth (in.)   \n",
       "171       100006                Product Height (in.)   \n",
       "172       100006                Product Weight (lb.)   \n",
       "173       100006                 Product Width (in.)   \n",
       "174       100006                      Safety Listing   \n",
       "175       100006                         Sensor Cook   \n",
       "176       100006                           Turntable   \n",
       "177       100006                  Turntable Diameter   \n",
       "178       100006                           Vent Type   \n",
       "179       100006                     Wattage (watts)   \n",
       "\n",
       "                                                 value  \n",
       "132                           Over the Range Microwave  \n",
       "133                                            18.5 in  \n",
       "134                                           17.13 in  \n",
       "135                                           29.94 in  \n",
       "136  Spacious 1.9 cu. ft. capacity accommodates din...  \n",
       "137  1100 watts of cooking power and 10 cooking lev...  \n",
       "138  400 CFM venting system whisks smoke, steam and...  \n",
       "139  Single piece door with built-in touch-activate...  \n",
       "140  Cook with confidence with the Sensor and Progr...  \n",
       "141  Kids' Menu: it's simple, it's fast. The Kids' ...  \n",
       "142  TimeSavor Plus True Convection cooking uses a ...  \n",
       "143  Industry leading CleanRelease non-stick interi...  \n",
       "144  Recessed turntable's on/off feature is especia...  \n",
       "145  Automatic interior incandescent light and larg...  \n",
       "146  4-speed fan with Auto Vent Fan function. To ke...  \n",
       "147  Replaceable charcoal and dishwasher safe mesh ...  \n",
       "148  90Â° hinge. With this innovative hinge design ...  \n",
       "149                            Limited 1-year warranty  \n",
       "150  Convertible venting. Can be installed as vente...  \n",
       "151  AccuPop cycle senses the perfect pop every tim...  \n",
       "152  Included items: convection rack, SureMist stea...  \n",
       "153                                                1.9  \n",
       "154                                        1-UL Listed  \n",
       "155                                    Stainless Steel  \n",
       "156                                          Stainless  \n",
       "157                                                 12  \n",
       "158                                              17.13  \n",
       "159                                                 30  \n",
       "160                                Right to Left Swing  \n",
       "161                                                  4  \n",
       "162                                                400  \n",
       "163                                          Whirlpool  \n",
       "164                                               Pull  \n",
       "165  Charcoal Filter,Clock,Convection,Cooktop Light...  \n",
       "166                                             30 in.  \n",
       "167                                                  6  \n",
       "168                                                 10  \n",
       "169                      Defrost,Keep Warm,Sensor Cook  \n",
       "170                                               18.5  \n",
       "171                                              17.13  \n",
       "172                                               67.1  \n",
       "173                                              29.94  \n",
       "174                                                 UL  \n",
       "175                                                Yes  \n",
       "176                                                Yes  \n",
       "177                                                 14  \n",
       "178                                        Convertible  \n",
       "179                                               1100  "
      ]
     },
     "execution_count": 59,
     "metadata": {},
     "output_type": "execute_result"
    }
   ],
   "source": [
    "gp_attr.get_group(100006) "
   ]
  },
  {
   "cell_type": "code",
   "execution_count": 34,
   "metadata": {
    "collapsed": false
   },
   "outputs": [],
   "source": [
    "import operator"
   ]
  },
  {
   "cell_type": "code",
   "execution_count": 2,
   "metadata": {
    "collapsed": true
   },
   "outputs": [],
   "source": [
    "stemmer = SnowballStemmer('english')"
   ]
  },
  {
   "cell_type": "code",
   "execution_count": 7,
   "metadata": {
    "collapsed": true
   },
   "outputs": [],
   "source": [
    "lemma = WordNetLemmatizer()"
   ]
  },
  {
   "cell_type": "code",
   "execution_count": 1,
   "metadata": {
    "collapsed": true
   },
   "outputs": [],
   "source": [
    "sent = ['Some houses have many mice. 1*2 ',' Our house only has one mouse. poodle article']"
   ]
  },
  {
   "cell_type": "code",
   "execution_count": 2,
   "metadata": {
    "collapsed": false
   },
   "outputs": [
    {
     "ename": "AttributeError",
     "evalue": "'list' object has no attribute 'split'",
     "output_type": "error",
     "traceback": [
      "\u001b[0;31m---------------------------------------------------------------------------\u001b[0m",
      "\u001b[0;31mAttributeError\u001b[0m                            Traceback (most recent call last)",
      "\u001b[0;32m<ipython-input-2-1b10f3c823f0>\u001b[0m in \u001b[0;36m<module>\u001b[0;34m()\u001b[0m\n\u001b[0;32m----> 1\u001b[0;31m \u001b[0;34m[\u001b[0m\u001b[0mlemma\u001b[0m\u001b[0;34m.\u001b[0m\u001b[0mlemmatize\u001b[0m\u001b[0;34m(\u001b[0m\u001b[0mw\u001b[0m\u001b[0;34m)\u001b[0m \u001b[0;32mfor\u001b[0m \u001b[0mw\u001b[0m \u001b[0;32min\u001b[0m \u001b[0msent\u001b[0m\u001b[0;34m.\u001b[0m\u001b[0msplit\u001b[0m\u001b[0;34m(\u001b[0m\u001b[0;34m)\u001b[0m\u001b[0;34m]\u001b[0m\u001b[0;34m\u001b[0m\u001b[0m\n\u001b[0m",
      "\u001b[0;31mAttributeError\u001b[0m: 'list' object has no attribute 'split'"
     ]
    }
   ],
   "source": [
    "[lemma.lemmatize(w) for w in sent.split()]"
   ]
  },
  {
   "cell_type": "code",
   "execution_count": 75,
   "metadata": {
    "collapsed": true
   },
   "outputs": [],
   "source": [
    "from collections import defaultdict"
   ]
  },
  {
   "cell_type": "code",
   "execution_count": 86,
   "metadata": {
    "collapsed": false
   },
   "outputs": [],
   "source": [
    "text = [w.lower() for w in sent[0].split()]"
   ]
  },
  {
   "cell_type": "code",
   "execution_count": 87,
   "metadata": {
    "collapsed": true
   },
   "outputs": [],
   "source": [
    "frequency = defaultdict(int)"
   ]
  },
  {
   "cell_type": "code",
   "execution_count": 88,
   "metadata": {
    "collapsed": false
   },
   "outputs": [],
   "source": [
    "for token in text:\n",
    "    frequency[token] += 1"
   ]
  },
  {
   "cell_type": "code",
   "execution_count": 103,
   "metadata": {
    "collapsed": true
   },
   "outputs": [],
   "source": [
    "texts = [[lemma.lemmatize(w.lower()) for w in s.split()] for s in sent]"
   ]
  },
  {
   "cell_type": "code",
   "execution_count": 104,
   "metadata": {
    "collapsed": false
   },
   "outputs": [],
   "source": [
    "dictionary = corpora.Dictionary(texts)"
   ]
  },
  {
   "cell_type": "code",
   "execution_count": null,
   "metadata": {
    "collapsed": true
   },
   "outputs": [],
   "source": []
  }
 ],
 "metadata": {
  "kernelspec": {
   "display_name": "Python 2",
   "language": "python",
   "name": "python2"
  },
  "language_info": {
   "codemirror_mode": {
    "name": "ipython",
    "version": 2
   },
   "file_extension": ".py",
   "mimetype": "text/x-python",
   "name": "python",
   "nbconvert_exporter": "python",
   "pygments_lexer": "ipython2",
   "version": "2.7.11"
  }
 },
 "nbformat": 4,
 "nbformat_minor": 0
}
